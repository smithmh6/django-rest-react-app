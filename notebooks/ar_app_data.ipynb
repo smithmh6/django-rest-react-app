{
 "cells": [
  {
   "cell_type": "markdown",
   "id": "d40707c8",
   "metadata": {},
   "source": [
    "# AR App Data\n",
    "The AR App database models must be populated from the legacy AR_Database. This notebook will serve to analyze the data for integrity and clean up the data before going into the Django web app database. "
   ]
  },
  {
   "cell_type": "code",
   "execution_count": 2,
   "id": "02637b13",
   "metadata": {},
   "outputs": [],
   "source": [
    "# import initializer\n",
    "import kernel_init\n",
    "\n",
    "# import packages\n",
    "from texturedar.models import ARSample, Substrate, CCSData, FlameData, ImageData\n",
    "import datetime as dt\n",
    "from django.contrib.auth.models import User\n",
    "import json\n",
    "import os\n",
    "import pandas as pd\n",
    "import pytz as tz\n",
    "import sys\n",
    "from tqdm import tqdm"
   ]
  },
  {
   "cell_type": "markdown",
   "id": "13debff8",
   "metadata": {},
   "source": [
    "### AR Samples\n",
    "Add new samples to the database."
   ]
  },
  {
   "cell_type": "code",
   "execution_count": 12,
   "id": "01177e98",
   "metadata": {},
   "outputs": [
    {
     "name": "stderr",
     "output_type": "stream",
     "text": [
      "100%|██████████| 58/58 [00:07<00:00,  7.97it/s]\n"
     ]
    }
   ],
   "source": [
    "# define directory containing data files\n",
    "filepath = os.path.normpath(\n",
    "    r'C:\\Users\\hsmith\\repos\\Development_Projects\\python-development\\transfer_ar_data\\upload_local_data\\missing_samples.csv'\n",
    ")\n",
    "\n",
    "# read the file\n",
    "samples_df = pd.read_csv(filepath, header=None)\n",
    "samples = [str(s) for s in samples_df[0].values]\n",
    "\n",
    "# iterate the sample list\n",
    "for s in tqdm(samples):\n",
    "\n",
    "    #runTime = int(cleaned_samples.iloc[i, 2])\n",
    "    #sem = bool(cleaned_samples.iloc[i, 3])\n",
    "    createdBy = User.objects.get(username='lye')\n",
    "    storage = 0\n",
    "\n",
    "    try:\n",
    "        ARSample.objects.create(\n",
    "            name=s,\n",
    "            runtime=-1,\n",
    "            sem=False,\n",
    "            storage=storage,\n",
    "            created_by=createdBy,\n",
    "            substrate=None,\n",
    "            clean_recipe=None,\n",
    "            rie_recipe=None,\n",
    "            tooling=None\n",
    "        )\n",
    "    except Exception as e:\n",
    "        print(f'{s} not inserted.')\n",
    "        print(e)\n",
    "        break\n",
    "\n"
   ]
  },
  {
   "cell_type": "code",
   "execution_count": 3,
   "id": "061f4c1d",
   "metadata": {},
   "outputs": [
    {
     "name": "stderr",
     "output_type": "stream",
     "text": [
      "100%|██████████| 474/474 [00:39<00:00, 12.11it/s]\n"
     ]
    }
   ],
   "source": [
    "# now the AR sample timestamps need to be updated\n",
    "# iterate the dataframe\n",
    "for i in tqdm(range(cleaned_samples.shape[0])):\n",
    "    get_sample = ARSample.objects.get(name=str(cleaned_samples.iloc[i, 0]))\n",
    "\n",
    "    #date_format = '%Y-%m-%d %H:%M:%S'\n",
    "    #timeStamp = dt.datetime.strptime(cleaned_samples.iloc[i, 1], date_format)\n",
    "    #createdDate = tz.utc.localize(timeStamp)\n",
    "\n",
    "    #get_sample.created = createdDate\n",
    "    #get_sample.save()"
   ]
  },
  {
   "cell_type": "markdown",
   "id": "600f6b37",
   "metadata": {},
   "source": [
    "### Add Cleaned Flame/CCS Data\n",
    "Add the cleaned CCS & FLAME data to the web app database."
   ]
  },
  {
   "cell_type": "code",
   "execution_count": 17,
   "id": "8a9fec7c",
   "metadata": {},
   "outputs": [
    {
     "name": "stdout",
     "output_type": "stream",
     "text": [
      "Index(['id', 'arsample_id', 'data_file', 'measurement_id'], dtype='object')\n",
      "Index(['id', 'arsample_id', 'data_file', 'measurement_id'], dtype='object')\n"
     ]
    }
   ],
   "source": [
    "# read in the data files\n",
    "ccs_data = pd.read_csv(r'C:\\Users\\hsmith\\repos\\Development_Projects\\python-development\\transfer_ar_data\\upload_local_data\\view_ccs_data.csv')\n",
    "flame_data = pd.read_csv(r'C:\\Users\\hsmith\\repos\\Development_Projects\\python-development\\transfer_ar_data\\upload_local_data\\view_flame_data.csv')\n",
    "print(ccs_data.columns)\n",
    "print(flame_data.columns)"
   ]
  },
  {
   "cell_type": "markdown",
   "id": "fe033c5e",
   "metadata": {},
   "source": [
    "#### CCS DATA"
   ]
  },
  {
   "cell_type": "code",
   "execution_count": 19,
   "id": "069fe30c",
   "metadata": {},
   "outputs": [
    {
     "name": "stderr",
     "output_type": "stream",
     "text": [
      "100%|██████████| 276/276 [00:24<00:00, 11.14it/s]\n"
     ]
    }
   ],
   "source": [
    "# get queryset of samples\n",
    "samples_qs = ARSample.objects.all()\n",
    "measuredby = User.objects.get(username='lye')\n",
    "\n",
    "# iterations\n",
    "iters = ccs_data.shape[0]\n",
    "\n",
    "# upload flag\n",
    "UPLOAD_CCS = False\n",
    "\n",
    "if UPLOAD_CCS:\n",
    "\n",
    "    ## iterate the dataframe and add the records\n",
    "    for i in tqdm(range(iters)):\n",
    "        # get sample obj\n",
    "        sampleObj = samples_qs.filter(name=str(ccs_data['arsample_id'][i]))[0]\n",
    "\n",
    "        # CCS records\n",
    "        try:\n",
    "            new_ccs = CCSData.objects.create(\n",
    "                arsample=sampleObj,\n",
    "                etched_surface=2,\n",
    "                int_time=0.12,\n",
    "                avgs=1000.0,\n",
    "                measurement_id=str(ccs_data['measurement_id'][i]),\n",
    "                measured_by=measuredby,\n",
    "                data_file=str(ccs_data['data_file'][i])\n",
    "            )\n",
    "        except:\n",
    "            print(f\"Record {ccs_data['id'][i]}, {ccs_data['arsample_id'][i]} failed.\")\n",
    "            break\n",
    "\n"
   ]
  },
  {
   "cell_type": "markdown",
   "id": "1d6dee7d",
   "metadata": {},
   "source": [
    "#### FLAME Data"
   ]
  },
  {
   "cell_type": "code",
   "execution_count": 20,
   "id": "6fcdecfc",
   "metadata": {},
   "outputs": [
    {
     "name": "stderr",
     "output_type": "stream",
     "text": [
      "100%|██████████| 276/276 [00:25<00:00, 10.98it/s]\n"
     ]
    }
   ],
   "source": [
    "# get queryset of samples\n",
    "samples_qs = ARSample.objects.all()\n",
    "measuredby = User.objects.get(username='lye')\n",
    "\n",
    "# iterations\n",
    "iters = flame_data.shape[0]\n",
    "\n",
    "# upload flag\n",
    "UPLOAD_FLAME = True\n",
    "\n",
    "if UPLOAD_FLAME:\n",
    "    \n",
    "    ## iterate the dataframe and add the records\n",
    "    for i in tqdm(range(iters)):\n",
    "        # get sample obj\n",
    "        sampleObj = samples_qs.filter(name=str(flame_data['arsample_id'][i]))[0]\n",
    "\n",
    "        try:\n",
    "            # Flame records\n",
    "            new_flame = FlameData.objects.create(\n",
    "                arsample=sampleObj,\n",
    "                etched_surface=2,\n",
    "                int_time=4.5,\n",
    "                avgs=1000.0,\n",
    "                measurement_id=str(flame_data['measurement_id'][i]),\n",
    "                measured_by=measuredby,\n",
    "                data_file=str(flame_data['data_file'][i]),\n",
    "                nlc=True,\n",
    "                edc=True\n",
    "            )\n",
    "        except:\n",
    "            print(f\"Record {flame_data['id'][i]}, {flame_data['arsample_id'][i]} failed.\")\n",
    "            break"
   ]
  },
  {
   "cell_type": "markdown",
   "id": "5d5ea747",
   "metadata": {},
   "source": [
    "### Image Data"
   ]
  },
  {
   "cell_type": "code",
   "execution_count": 8,
   "id": "a1782c45",
   "metadata": {},
   "outputs": [
    {
     "name": "stdout",
     "output_type": "stream",
     "text": [
      "<class 'pandas.core.frame.DataFrame'>\n",
      "RangeIndex: 2719 entries, 0 to 2718\n",
      "Columns: 5 entries, ID to createdBy\n",
      "dtypes: int64(1), object(4)\n",
      "memory usage: 106.3+ KB\n",
      "Index(['ID', 'Sample', 'timestamps', 'file_paths', 'createdBy'], dtype='object')\n"
     ]
    }
   ],
   "source": [
    "# read in the data file\n",
    "img_data = pd.read_csv(\n",
    "    os.path.join(\n",
    "        DATA_PATH, 'cleaned_data' + os.sep + 'cleaned_image_data.csv'\n",
    "    )\n",
    ")\n",
    "\n",
    "# show the dataframe info\n",
    "img_data.info(verbose=False)\n",
    "print(img_data.columns)"
   ]
  },
  {
   "cell_type": "code",
   "execution_count": 29,
   "id": "a5455a78",
   "metadata": {},
   "outputs": [
    {
     "name": "stderr",
     "output_type": "stream",
     "text": [
      "100%|██████████| 2719/2719 [13:29<00:00,  3.36it/s]\n"
     ]
    }
   ],
   "source": [
    "# get queryset of samples\n",
    "samples_qs = ARSample.objects.all()\n",
    "measuredby = User.objects.get(username='lye')\n",
    "\n",
    "# iterations\n",
    "iters = img_data.shape[0]\n",
    "\n",
    "# upload flag\n",
    "UPLOAD_IMG = True\n",
    "\n",
    "if UPLOAD_IMG:\n",
    "\n",
    "    ## iterate the dataframe and add the records\n",
    "    for i in tqdm(range(iters)):\n",
    "\n",
    "        # get sample name from dataframe\n",
    "        s = str(img_data['Sample'][i])\n",
    "\n",
    "        # get sample obj\n",
    "        sampleObj = samples_qs.filter(name=s)[0]\n",
    "\n",
    "        # # image records\n",
    "        new_img = ImageData.objects.create(\n",
    "            arsample=sampleObj,\n",
    "            measured_by=measuredby,\n",
    "            image_file=str(img_data['file_paths'][i]),\n",
    "        )\n",
    "        # get timestamp data\n",
    "        date_format = '%Y-%m-%d %H:%M:%S'\n",
    "        timeStamp = dt.datetime.strptime(img_data['timestamps'][i], date_format)\n",
    "        createdDate = tz.utc.localize(timeStamp)\n",
    "        # update the timestamp\n",
    "        new_img.created = createdDate\n",
    "        new_img.save()"
   ]
  },
  {
   "cell_type": "code",
   "execution_count": 21,
   "id": "1d4b7bf7",
   "metadata": {},
   "outputs": [
    {
     "name": "stdout",
     "output_type": "stream",
     "text": [
      "Index(['id', 'arsample_id', 'data_file'], dtype='object')\n",
      "Index(['id', 'arsample_id', 'data_file'], dtype='object')\n"
     ]
    }
   ],
   "source": [
    "# fix duplicate file names\n",
    "ccspath = r'C:\\Users\\hsmith\\repos\\Development_Projects\\python-development\\transfer_ar_data\\upload_local_data\\ccs_duplicate_blobs.csv'\n",
    "flamepath = r'C:\\Users\\hsmith\\repos\\Development_Projects\\python-development\\transfer_ar_data\\upload_local_data\\flame_duplicate_blobs.csv'\n",
    "dfc = pd.read_csv(ccspath)\n",
    "dff = pd.read_csv(flamepath)\n",
    "print(dfc.columns)\n",
    "print(dff.columns)"
   ]
  },
  {
   "cell_type": "code",
   "execution_count": 26,
   "id": "9d06eabc",
   "metadata": {},
   "outputs": [
    {
     "name": "stderr",
     "output_type": "stream",
     "text": [
      "100%|██████████| 160/160 [00:14<00:00, 10.74it/s]\n"
     ]
    }
   ],
   "source": [
    "# iterations\n",
    "iters = dfc.shape[0]\n",
    "\n",
    "## iterate the dataframe and add the records\n",
    "for i in tqdm(range(iters)):\n",
    "\n",
    "    # get sample name from dataframe\n",
    "    s = CCSData.objects.get(id=int(dfc['id'][i]))\n",
    "    newFilename = str(s.data_file).replace(\"ccs_data/\", f\"ccs_data/{dfc['arsample_id'][i]}_\")\n",
    "    s.data_file = newFilename\n",
    "    s.save()\n"
   ]
  },
  {
   "cell_type": "code",
   "execution_count": 27,
   "id": "88dc61b2",
   "metadata": {},
   "outputs": [
    {
     "name": "stderr",
     "output_type": "stream",
     "text": [
      "100%|██████████| 160/160 [00:14<00:00, 10.75it/s]\n"
     ]
    }
   ],
   "source": [
    "# iterations\n",
    "iters = dff.shape[0]\n",
    "\n",
    "## iterate the dataframe and add the records\n",
    "for i in tqdm(range(iters)):\n",
    "\n",
    "    # get sample name from dataframe\n",
    "    s = FlameData.objects.get(id=int(dff['id'][i]))\n",
    "    newFilename = str(s.data_file).replace(\"flame_data/\", f\"flame_data/{dff['arsample_id'][i]}_\")\n",
    "    s.data_file = newFilename\n",
    "    s.save()"
   ]
  }
 ],
 "metadata": {
  "kernelspec": {
   "display_name": "env",
   "language": "python",
   "name": "python3"
  },
  "language_info": {
   "codemirror_mode": {
    "name": "ipython",
    "version": 3
   },
   "file_extension": ".py",
   "mimetype": "text/x-python",
   "name": "python",
   "nbconvert_exporter": "python",
   "pygments_lexer": "ipython3",
   "version": "3.11.0"
  },
  "vscode": {
   "interpreter": {
    "hash": "b9a31608ab0afb6106b103885e5e53a395ed23843c8eba78daefa9379a753e79"
   }
  }
 },
 "nbformat": 4,
 "nbformat_minor": 5
}
